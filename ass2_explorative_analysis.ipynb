{
 "cells": [
  {
   "cell_type": "code",
   "execution_count": 1,
   "id": "d545425e",
   "metadata": {},
   "outputs": [],
   "source": [
    "import json\n",
    "from matplotlib import pyplot as plt\n",
    "from collections import defaultdict\n",
    "from sklearn.linear_model import LogisticRegression, LinearRegression\n",
    "import sklearn\n",
    "import numpy as np\n",
    "import pandas as pd\n",
    "import random\n",
    "import gzip\n",
    "import math"
   ]
  },
  {
   "cell_type": "code",
   "execution_count": 2,
   "id": "d577aff3",
   "metadata": {},
   "outputs": [],
   "source": [
    "import warnings\n",
    "warnings.filterwarnings(\"ignore\")"
   ]
  },
  {
   "cell_type": "code",
   "execution_count": 3,
   "id": "30ae2ecd-2fd3-4517-b0fb-16884402a38c",
   "metadata": {},
   "outputs": [],
   "source": [
    "# Load the gzipped JSONL file\n",
    "df = pd.read_json(\"Amazon_Fashion.jsonl.gz\", lines=True, compression='gzip')\n"
   ]
  },
  {
   "cell_type": "code",
   "execution_count": 4,
   "id": "6f9f6602-a9f4-463f-b302-7f8d38c20789",
   "metadata": {},
   "outputs": [
    {
     "name": "stdout",
     "output_type": "stream",
     "text": [
      "46771\n"
     ]
    }
   ],
   "source": [
    "duplicates_before = df[df.duplicated(subset=['user_id', 'asin'], keep=False)]\n",
    "\n",
    "# Print duplicate rows\n",
    "print(len(duplicates_before))"
   ]
  },
  {
   "cell_type": "code",
   "execution_count": 5,
   "id": "46343a25-028e-4d22-b2c3-96c722fe2d73",
   "metadata": {},
   "outputs": [
    {
     "name": "stdout",
     "output_type": "stream",
     "text": [
      "0\n"
     ]
    }
   ],
   "source": [
    "# we drop all duplicates and only keep the newest review\n",
    "\n",
    "df_unique = df.sort_values(by=['user_id', 'asin', 'timestamp'], ascending=[True, True, False])\n",
    "df_unique = df.drop_duplicates(subset=['user_id', 'asin'], keep='first')\n",
    "\n",
    "\n",
    "duplicates_after = df_unique[df_unique.duplicated(subset=['user_id', 'asin'], keep=False)]\n",
    "print(len(duplicates_after))\n"
   ]
  },
  {
   "cell_type": "code",
   "execution_count": 4,
   "id": "d1340dc0-039e-4eea-b1ab-410a9ddbcd67",
   "metadata": {},
   "outputs": [
    {
     "data": {
      "text/html": [
       "<div>\n",
       "<style scoped>\n",
       "    .dataframe tbody tr th:only-of-type {\n",
       "        vertical-align: middle;\n",
       "    }\n",
       "\n",
       "    .dataframe tbody tr th {\n",
       "        vertical-align: top;\n",
       "    }\n",
       "\n",
       "    .dataframe thead th {\n",
       "        text-align: right;\n",
       "    }\n",
       "</style>\n",
       "<table border=\"1\" class=\"dataframe\">\n",
       "  <thead>\n",
       "    <tr style=\"text-align: right;\">\n",
       "      <th></th>\n",
       "      <th>rating</th>\n",
       "      <th>title</th>\n",
       "      <th>text</th>\n",
       "      <th>images</th>\n",
       "      <th>asin</th>\n",
       "      <th>parent_asin</th>\n",
       "      <th>user_id</th>\n",
       "      <th>timestamp</th>\n",
       "      <th>helpful_vote</th>\n",
       "      <th>verified_purchase</th>\n",
       "    </tr>\n",
       "  </thead>\n",
       "  <tbody>\n",
       "    <tr>\n",
       "      <th>0</th>\n",
       "      <td>5</td>\n",
       "      <td>Pretty locket</td>\n",
       "      <td>I think this locket is really pretty. The insi...</td>\n",
       "      <td>[]</td>\n",
       "      <td>B00LOPVX74</td>\n",
       "      <td>B00LOPVX74</td>\n",
       "      <td>AGBFYI2DDIKXC5Y4FARTYDTQBMFQ</td>\n",
       "      <td>2020-01-09 00:06:34.489</td>\n",
       "      <td>3</td>\n",
       "      <td>True</td>\n",
       "    </tr>\n",
       "    <tr>\n",
       "      <th>1</th>\n",
       "      <td>5</td>\n",
       "      <td>A</td>\n",
       "      <td>Great</td>\n",
       "      <td>[]</td>\n",
       "      <td>B07B4JXK8D</td>\n",
       "      <td>B07B4JXK8D</td>\n",
       "      <td>AFQLNQNQYFWQZPJQZS6V3NZU4QBQ</td>\n",
       "      <td>2020-12-20 01:04:06.701</td>\n",
       "      <td>0</td>\n",
       "      <td>True</td>\n",
       "    </tr>\n",
       "    <tr>\n",
       "      <th>2</th>\n",
       "      <td>2</td>\n",
       "      <td>Two Stars</td>\n",
       "      <td>One of the stones fell out within the first 2 ...</td>\n",
       "      <td>[]</td>\n",
       "      <td>B007ZSEQ4Q</td>\n",
       "      <td>B007ZSEQ4Q</td>\n",
       "      <td>AHITBJSS7KYUBVZPX7M2WJCOIVKQ</td>\n",
       "      <td>2015-05-23 01:33:48.000</td>\n",
       "      <td>3</td>\n",
       "      <td>True</td>\n",
       "    </tr>\n",
       "    <tr>\n",
       "      <th>3</th>\n",
       "      <td>1</td>\n",
       "      <td>Won’t buy again</td>\n",
       "      <td>Crappy socks. Money wasted. Bought to wear wit...</td>\n",
       "      <td>[]</td>\n",
       "      <td>B07F2BTFS9</td>\n",
       "      <td>B07F2BTFS9</td>\n",
       "      <td>AFVNEEPDEIH5SPUN5BWC6NKL3WNQ</td>\n",
       "      <td>2018-12-31 20:57:27.095</td>\n",
       "      <td>2</td>\n",
       "      <td>True</td>\n",
       "    </tr>\n",
       "    <tr>\n",
       "      <th>4</th>\n",
       "      <td>5</td>\n",
       "      <td>I LOVE these glasses</td>\n",
       "      <td>I LOVE these glasses!  They fit perfectly over...</td>\n",
       "      <td>[]</td>\n",
       "      <td>B00PKRFU4O</td>\n",
       "      <td>B00XESJTDE</td>\n",
       "      <td>AHSPLDNW5OOUK2PLH7GXLACFBZNQ</td>\n",
       "      <td>2015-08-13 14:29:26.000</td>\n",
       "      <td>0</td>\n",
       "      <td>True</td>\n",
       "    </tr>\n",
       "  </tbody>\n",
       "</table>\n",
       "</div>"
      ],
      "text/plain": [
       "   rating                 title  \\\n",
       "0       5         Pretty locket   \n",
       "1       5                     A   \n",
       "2       2             Two Stars   \n",
       "3       1       Won’t buy again   \n",
       "4       5  I LOVE these glasses   \n",
       "\n",
       "                                                text images        asin  \\\n",
       "0  I think this locket is really pretty. The insi...     []  B00LOPVX74   \n",
       "1                                              Great     []  B07B4JXK8D   \n",
       "2  One of the stones fell out within the first 2 ...     []  B007ZSEQ4Q   \n",
       "3  Crappy socks. Money wasted. Bought to wear wit...     []  B07F2BTFS9   \n",
       "4  I LOVE these glasses!  They fit perfectly over...     []  B00PKRFU4O   \n",
       "\n",
       "  parent_asin                       user_id               timestamp  \\\n",
       "0  B00LOPVX74  AGBFYI2DDIKXC5Y4FARTYDTQBMFQ 2020-01-09 00:06:34.489   \n",
       "1  B07B4JXK8D  AFQLNQNQYFWQZPJQZS6V3NZU4QBQ 2020-12-20 01:04:06.701   \n",
       "2  B007ZSEQ4Q  AHITBJSS7KYUBVZPX7M2WJCOIVKQ 2015-05-23 01:33:48.000   \n",
       "3  B07F2BTFS9  AFVNEEPDEIH5SPUN5BWC6NKL3WNQ 2018-12-31 20:57:27.095   \n",
       "4  B00XESJTDE  AHSPLDNW5OOUK2PLH7GXLACFBZNQ 2015-08-13 14:29:26.000   \n",
       "\n",
       "   helpful_vote  verified_purchase  \n",
       "0             3               True  \n",
       "1             0               True  \n",
       "2             3               True  \n",
       "3             2               True  \n",
       "4             0               True  "
      ]
     },
     "execution_count": 4,
     "metadata": {},
     "output_type": "execute_result"
    }
   ],
   "source": [
    "df.head()\n"
   ]
  },
  {
   "cell_type": "code",
   "execution_count": 5,
   "id": "85100ed3",
   "metadata": {},
   "outputs": [
    {
     "name": "stdout",
     "output_type": "stream",
     "text": [
      "<class 'pandas.core.frame.DataFrame'>\n",
      "RangeIndex: 2500939 entries, 0 to 2500938\n",
      "Data columns (total 10 columns):\n",
      " #   Column             Dtype         \n",
      "---  ------             -----         \n",
      " 0   rating             int64         \n",
      " 1   title              object        \n",
      " 2   text               object        \n",
      " 3   images             object        \n",
      " 4   asin               object        \n",
      " 5   parent_asin        object        \n",
      " 6   user_id            object        \n",
      " 7   timestamp          datetime64[ns]\n",
      " 8   helpful_vote       int64         \n",
      " 9   verified_purchase  bool          \n",
      "dtypes: bool(1), datetime64[ns](1), int64(2), object(6)\n",
      "memory usage: 174.1+ MB\n",
      "None\n"
     ]
    }
   ],
   "source": [
    "# Optional: Inspect the DataFrame\n",
    "print(df.info())"
   ]
  },
  {
   "cell_type": "code",
   "execution_count": 6,
   "id": "62f1089f-28b0-40b0-8df7-9c83d4e7d784",
   "metadata": {},
   "outputs": [
    {
     "name": "stdout",
     "output_type": "stream",
     "text": [
      "2500939\n"
     ]
    }
   ],
   "source": [
    "# number of reviews\n",
    "length = len(df)\n",
    "print(length)\n"
   ]
  },
  {
   "cell_type": "code",
   "execution_count": 7,
   "id": "6c768426-7cd5-4e85-88c0-340cc865e988",
   "metadata": {},
   "outputs": [
    {
     "name": "stdout",
     "output_type": "stream",
     "text": [
      "rating               0\n",
      "title                0\n",
      "text                 0\n",
      "images               0\n",
      "asin                 0\n",
      "parent_asin          0\n",
      "user_id              0\n",
      "timestamp            0\n",
      "helpful_vote         0\n",
      "verified_purchase    0\n",
      "dtype: int64\n"
     ]
    }
   ],
   "source": [
    "missing_values = df.isna().sum()\n",
    "print(missing_values)"
   ]
  },
  {
   "cell_type": "code",
   "execution_count": 8,
   "id": "94119f52-89b2-4f4b-8bf4-3ec7cbd362c0",
   "metadata": {},
   "outputs": [
    {
     "name": "stdout",
     "output_type": "stream",
     "text": [
      "2035490\n"
     ]
    }
   ],
   "source": [
    "# number of users\n",
    "\n",
    "number_of_users = len(df[\"user_id\"].drop_duplicates())\n",
    "print(number_of_users)\n"
   ]
  },
  {
   "cell_type": "code",
   "execution_count": 14,
   "id": "70f0035f-9cd3-4b40-a17b-d9f5d2082113",
   "metadata": {},
   "outputs": [
    {
     "name": "stdout",
     "output_type": "stream",
     "text": [
      "874297\n"
     ]
    }
   ],
   "source": [
    "# number of items\n",
    "\n",
    "number_of_products = len(df[\"asin\"].drop_duplicates())\n",
    "print(number_of_products)"
   ]
  },
  {
   "cell_type": "code",
   "execution_count": 9,
   "id": "a9dd77c6-8a7d-4514-b592-4afd4f8d627b",
   "metadata": {},
   "outputs": [
    {
     "name": "stdout",
     "output_type": "stream",
     "text": [
      "1.2286668075008966\n",
      "1.0\n",
      "0.9318106540913449\n"
     ]
    }
   ],
   "source": [
    "# mean/median number of reviews per user\n",
    "\n",
    "number_of_reviews_per_user = df.groupby(\"user_id\").size().reset_index(name='review_count')\n",
    "\n",
    "mean_number_of_reviews_per_user = number_of_reviews_per_user[\"review_count\"].mean()\n",
    "median_number_of_reviews_per_user = number_of_reviews_per_user[\"review_count\"].median()\n",
    "std_number_of_reviews_per_user = number_of_reviews_per_user[\"review_count\"].std()\n",
    "\n",
    "\n",
    "print(mean_number_of_reviews_per_user)\n",
    "print(median_number_of_reviews_per_user)\n",
    "print(std_number_of_reviews_per_user)"
   ]
  },
  {
   "cell_type": "code",
   "execution_count": 13,
   "id": "16b2eb9e-06b4-46db-b9a8-16b69bc2e09c",
   "metadata": {},
   "outputs": [
    {
     "data": {
      "text/html": [
       "<div>\n",
       "<style scoped>\n",
       "    .dataframe tbody tr th:only-of-type {\n",
       "        vertical-align: middle;\n",
       "    }\n",
       "\n",
       "    .dataframe tbody tr th {\n",
       "        vertical-align: top;\n",
       "    }\n",
       "\n",
       "    .dataframe thead th {\n",
       "        text-align: right;\n",
       "    }\n",
       "</style>\n",
       "<table border=\"1\" class=\"dataframe\">\n",
       "  <thead>\n",
       "    <tr style=\"text-align: right;\">\n",
       "      <th></th>\n",
       "      <th>rating</th>\n",
       "      <th>review_count</th>\n",
       "      <th>review_count_percentage</th>\n",
       "    </tr>\n",
       "  </thead>\n",
       "  <tbody>\n",
       "    <tr>\n",
       "      <th>0</th>\n",
       "      <td>1</td>\n",
       "      <td>303411</td>\n",
       "      <td>12.131883</td>\n",
       "    </tr>\n",
       "    <tr>\n",
       "      <th>1</th>\n",
       "      <td>2</td>\n",
       "      <td>173462</td>\n",
       "      <td>6.935875</td>\n",
       "    </tr>\n",
       "    <tr>\n",
       "      <th>2</th>\n",
       "      <td>3</td>\n",
       "      <td>245471</td>\n",
       "      <td>9.815153</td>\n",
       "    </tr>\n",
       "    <tr>\n",
       "      <th>3</th>\n",
       "      <td>4</td>\n",
       "      <td>352327</td>\n",
       "      <td>14.087789</td>\n",
       "    </tr>\n",
       "    <tr>\n",
       "      <th>4</th>\n",
       "      <td>5</td>\n",
       "      <td>1426268</td>\n",
       "      <td>57.029300</td>\n",
       "    </tr>\n",
       "  </tbody>\n",
       "</table>\n",
       "</div>"
      ],
      "text/plain": [
       "   rating  review_count  review_count_percentage\n",
       "0       1        303411                12.131883\n",
       "1       2        173462                 6.935875\n",
       "2       3        245471                 9.815153\n",
       "3       4        352327                14.087789\n",
       "4       5       1426268                57.029300"
      ]
     },
     "execution_count": 13,
     "metadata": {},
     "output_type": "execute_result"
    }
   ],
   "source": [
    "# how often each rating score has been given\n",
    "\n",
    "number_of_reviews_per_rating = df.groupby(\"rating\").size().reset_index(name='review_count')\n",
    "number_of_reviews_per_rating[\"review_count_percentage\"] = number_of_reviews_per_rating[\"review_count\"].apply(lambda x: (x / length) * 100)\n",
    "number_of_reviews_per_rating"
   ]
  },
  {
   "cell_type": "code",
   "execution_count": 11,
   "id": "a76d9c4a-bff6-4a84-92eb-b1f1cc8fd63f",
   "metadata": {},
   "outputs": [
    {
     "data": {
      "text/html": [
       "<div>\n",
       "<style scoped>\n",
       "    .dataframe tbody tr th:only-of-type {\n",
       "        vertical-align: middle;\n",
       "    }\n",
       "\n",
       "    .dataframe tbody tr th {\n",
       "        vertical-align: top;\n",
       "    }\n",
       "\n",
       "    .dataframe thead th {\n",
       "        text-align: right;\n",
       "    }\n",
       "</style>\n",
       "<table border=\"1\" class=\"dataframe\">\n",
       "  <thead>\n",
       "    <tr style=\"text-align: right;\">\n",
       "      <th></th>\n",
       "      <th>review_count</th>\n",
       "      <th>user_count</th>\n",
       "      <th>user_count_relative</th>\n",
       "    </tr>\n",
       "  </thead>\n",
       "  <tbody>\n",
       "    <tr>\n",
       "      <th>0</th>\n",
       "      <td>1</td>\n",
       "      <td>1736706.0</td>\n",
       "      <td>85.321274</td>\n",
       "    </tr>\n",
       "    <tr>\n",
       "      <th>1</th>\n",
       "      <td>2</td>\n",
       "      <td>218103.0</td>\n",
       "      <td>10.715012</td>\n",
       "    </tr>\n",
       "    <tr>\n",
       "      <th>2</th>\n",
       "      <td>3</td>\n",
       "      <td>48081.0</td>\n",
       "      <td>2.362134</td>\n",
       "    </tr>\n",
       "    <tr>\n",
       "      <th>3</th>\n",
       "      <td>4</td>\n",
       "      <td>17080.0</td>\n",
       "      <td>0.839110</td>\n",
       "    </tr>\n",
       "    <tr>\n",
       "      <th>4</th>\n",
       "      <td>5</td>\n",
       "      <td>6508.0</td>\n",
       "      <td>0.319726</td>\n",
       "    </tr>\n",
       "    <tr>\n",
       "      <th>5</th>\n",
       "      <td>6</td>\n",
       "      <td>3441.0</td>\n",
       "      <td>0.169050</td>\n",
       "    </tr>\n",
       "    <tr>\n",
       "      <th>6</th>\n",
       "      <td>7</td>\n",
       "      <td>1695.0</td>\n",
       "      <td>0.083272</td>\n",
       "    </tr>\n",
       "    <tr>\n",
       "      <th>7</th>\n",
       "      <td>8</td>\n",
       "      <td>1095.0</td>\n",
       "      <td>0.053795</td>\n",
       "    </tr>\n",
       "    <tr>\n",
       "      <th>8</th>\n",
       "      <td>9</td>\n",
       "      <td>681.0</td>\n",
       "      <td>0.033456</td>\n",
       "    </tr>\n",
       "    <tr>\n",
       "      <th>9</th>\n",
       "      <td>10</td>\n",
       "      <td>477.0</td>\n",
       "      <td>0.023434</td>\n",
       "    </tr>\n",
       "    <tr>\n",
       "      <th>10</th>\n",
       "      <td>&gt; 10</td>\n",
       "      <td>1623.0</td>\n",
       "      <td>0.079735</td>\n",
       "    </tr>\n",
       "  </tbody>\n",
       "</table>\n",
       "</div>"
      ],
      "text/plain": [
       "   review_count  user_count  user_count_relative\n",
       "0             1   1736706.0            85.321274\n",
       "1             2    218103.0            10.715012\n",
       "2             3     48081.0             2.362134\n",
       "3             4     17080.0             0.839110\n",
       "4             5      6508.0             0.319726\n",
       "5             6      3441.0             0.169050\n",
       "6             7      1695.0             0.083272\n",
       "7             8      1095.0             0.053795\n",
       "8             9       681.0             0.033456\n",
       "9            10       477.0             0.023434\n",
       "10         > 10      1623.0             0.079735"
      ]
     },
     "execution_count": 11,
     "metadata": {},
     "output_type": "execute_result"
    }
   ],
   "source": [
    "# build clusters for super users: e.g., how many users give 0-5 ratings? How many 6-15? How many >15?\n",
    "\n",
    "number_of_users_with_n_reviews = number_of_reviews_per_user.groupby(\"review_count\").size().reset_index(name='user_count')\n",
    "number_of_users_with_n_reviews[\"user_count_relative\"] = number_of_users_with_n_reviews[\"user_count\"].apply(lambda x: (x / number_of_users) * 100)\n",
    "\n",
    "first_10 = number_of_users_with_n_reviews.iloc[:10]\n",
    "rest = number_of_users_with_n_reviews.iloc[10:]\n",
    "\n",
    "aggregated_rest = number_of_users_with_n_reviews.iloc[10:].sum().to_frame().T\n",
    "aggregated_rest.loc[0, \"review_count\"] = \"> 10\"\n",
    "result_df = pd.concat([first_10, aggregated_rest], ignore_index=True)\n",
    "\n",
    "result_df"
   ]
  },
  {
   "cell_type": "code",
   "execution_count": 24,
   "id": "5132e5a7-fce0-40e6-99a8-ed506eae17c8",
   "metadata": {},
   "outputs": [
    {
     "data": {
      "text/html": [
       "<div>\n",
       "<style scoped>\n",
       "    .dataframe tbody tr th:only-of-type {\n",
       "        vertical-align: middle;\n",
       "    }\n",
       "\n",
       "    .dataframe tbody tr th {\n",
       "        vertical-align: top;\n",
       "    }\n",
       "\n",
       "    .dataframe thead th {\n",
       "        text-align: right;\n",
       "    }\n",
       "</style>\n",
       "<table border=\"1\" class=\"dataframe\">\n",
       "  <thead>\n",
       "    <tr style=\"text-align: right;\">\n",
       "      <th></th>\n",
       "      <th>review_count</th>\n",
       "      <th>product_count</th>\n",
       "      <th>product_count_relative</th>\n",
       "    </tr>\n",
       "  </thead>\n",
       "  <tbody>\n",
       "    <tr>\n",
       "      <th>0</th>\n",
       "      <td>1</td>\n",
       "      <td>518437.0</td>\n",
       "      <td>59.297584</td>\n",
       "    </tr>\n",
       "    <tr>\n",
       "      <th>1</th>\n",
       "      <td>2</td>\n",
       "      <td>151670.0</td>\n",
       "      <td>17.347652</td>\n",
       "    </tr>\n",
       "    <tr>\n",
       "      <th>2</th>\n",
       "      <td>3</td>\n",
       "      <td>67152.0</td>\n",
       "      <td>7.680685</td>\n",
       "    </tr>\n",
       "    <tr>\n",
       "      <th>3</th>\n",
       "      <td>4</td>\n",
       "      <td>36427.0</td>\n",
       "      <td>4.166433</td>\n",
       "    </tr>\n",
       "    <tr>\n",
       "      <th>4</th>\n",
       "      <td>5</td>\n",
       "      <td>22806.0</td>\n",
       "      <td>2.608496</td>\n",
       "    </tr>\n",
       "    <tr>\n",
       "      <th>5</th>\n",
       "      <td>6</td>\n",
       "      <td>15027.0</td>\n",
       "      <td>1.718752</td>\n",
       "    </tr>\n",
       "    <tr>\n",
       "      <th>6</th>\n",
       "      <td>7</td>\n",
       "      <td>10990.0</td>\n",
       "      <td>1.257010</td>\n",
       "    </tr>\n",
       "    <tr>\n",
       "      <th>7</th>\n",
       "      <td>8</td>\n",
       "      <td>8104.0</td>\n",
       "      <td>0.926916</td>\n",
       "    </tr>\n",
       "    <tr>\n",
       "      <th>8</th>\n",
       "      <td>9</td>\n",
       "      <td>6176.0</td>\n",
       "      <td>0.706396</td>\n",
       "    </tr>\n",
       "    <tr>\n",
       "      <th>9</th>\n",
       "      <td>10</td>\n",
       "      <td>4857.0</td>\n",
       "      <td>0.555532</td>\n",
       "    </tr>\n",
       "    <tr>\n",
       "      <th>10</th>\n",
       "      <td>&gt; 10</td>\n",
       "      <td>32651.0</td>\n",
       "      <td>3.734543</td>\n",
       "    </tr>\n",
       "  </tbody>\n",
       "</table>\n",
       "</div>"
      ],
      "text/plain": [
       "   review_count  product_count  product_count_relative\n",
       "0             1       518437.0               59.297584\n",
       "1             2       151670.0               17.347652\n",
       "2             3        67152.0                7.680685\n",
       "3             4        36427.0                4.166433\n",
       "4             5        22806.0                2.608496\n",
       "5             6        15027.0                1.718752\n",
       "6             7        10990.0                1.257010\n",
       "7             8         8104.0                0.926916\n",
       "8             9         6176.0                0.706396\n",
       "9            10         4857.0                0.555532\n",
       "10         > 10        32651.0                3.734543"
      ]
     },
     "execution_count": 24,
     "metadata": {},
     "output_type": "execute_result"
    }
   ],
   "source": [
    "# how many products have 0-5 ratings? How many 6-15? How many >15?\n",
    "\n",
    "number_of_reviews_per_product = df.groupby(\"asin\").size().reset_index(name='review_count')\n",
    "number_of_products_with_n_reviews = number_of_reviews_per_product.groupby(\"review_count\").size().reset_index(name='product_count')\n",
    "number_of_products_with_n_reviews[\"product_count_relative\"] = number_of_products_with_n_reviews[\"product_count\"].apply(lambda x: (x / number_of_products) * 100)\n",
    "\n",
    "first_10_products = number_of_products_with_n_reviews.iloc[:10]\n",
    "rest_products = number_of_products_with_n_reviews.iloc[10:]\n",
    "\n",
    "aggregated_rest_products = number_of_products_with_n_reviews.iloc[10:].sum().to_frame().T\n",
    "aggregated_rest_products.loc[0, \"review_count\"] = \"> 10\"\n",
    "result_df_products = pd.concat([first_10_products, aggregated_rest_products], ignore_index=True)\n",
    "\n",
    "result_df_products"
   ]
  },
  {
   "cell_type": "code",
   "execution_count": 12,
   "id": "d6fbbc9e-6263-4892-915d-6eeaec168e4c",
   "metadata": {},
   "outputs": [
    {
     "name": "stdout",
     "output_type": "stream",
     "text": [
      "142.17913911534828\n",
      "87.0\n",
      "188.1751081216233\n"
     ]
    }
   ],
   "source": [
    "# review length - mean/median/std\n",
    "\n",
    "review_texts = df[\"text\"].reset_index(name='text')\n",
    "review_texts[\"text_length\"] = review_texts[\"text\"].apply(lambda x: len(x))\n",
    "mean_review_length = review_texts[\"text_length\"].mean()\n",
    "median_review_length = review_texts[\"text_length\"].median()\n",
    "std_review_length = review_texts[\"text_length\"].std()\n",
    "\n",
    "\n",
    "print(mean_review_length)\n",
    "print(median_review_length)\n",
    "print(std_review_length)"
   ]
  },
  {
   "cell_type": "code",
   "execution_count": 13,
   "id": "23d9fc5c-22fb-4167-b10b-7f30b7f9ffa4",
   "metadata": {},
   "outputs": [
    {
     "data": {
      "text/plain": [
       "2426"
      ]
     },
     "execution_count": 13,
     "metadata": {},
     "output_type": "execute_result"
    }
   ],
   "source": [
    "# number of reviews w/o text\n",
    "number_of_reviews_without_text = len(df[df[\"text\"].str.strip() == \"\"])\n",
    "number_of_reviews_without_text"
   ]
  },
  {
   "cell_type": "code",
   "execution_count": 14,
   "id": "d63e65bf-5608-4082-9243-aadddbcc2ba2",
   "metadata": {},
   "outputs": [
    {
     "name": "stdout",
     "output_type": "stream",
     "text": [
      "3.969467468019012\n",
      "5.0\n",
      "1.4271711881871694\n"
     ]
    }
   ],
   "source": [
    "# rating - mean/median/std\n",
    "ratings = df[\"rating\"]\n",
    "ratings_mean = ratings.mean()\n",
    "ratings_median = ratings.median()\n",
    "ratings_std = ratings.std()\n",
    "\n",
    "print(ratings_mean)\n",
    "print(ratings_median)\n",
    "print(ratings_std)"
   ]
  },
  {
   "cell_type": "code",
   "execution_count": 15,
   "id": "ff8ca7e1-6090-46c3-933c-63821594b9aa",
   "metadata": {},
   "outputs": [
    {
     "name": "stdout",
     "output_type": "stream",
     "text": [
      "0.9347297155188511\n"
     ]
    }
   ],
   "source": [
    "# percentage of verified purchases\n",
    "\n",
    "percentage_of_verified_purchases = len(df[df[\"verified_purchase\"] == True]) / length\n",
    "print(percentage_of_verified_purchases)"
   ]
  },
  {
   "cell_type": "code",
   "execution_count": 16,
   "id": "66577d9c-4061-4a2a-9c94-6b3c314b1682",
   "metadata": {},
   "outputs": [
    {
     "name": "stdout",
     "output_type": "stream",
     "text": [
      "0.0022662465923941302\n"
     ]
    }
   ],
   "source": [
    "# correlation between verified purchases and rating (do verified raters give better ratings? Are unverified raters only here to spread hate?)\n",
    "\n",
    "# a) no downsampling\n",
    "rating_verified_purchase = df[[\"rating\", \"verified_purchase\"]]\n",
    "rating_verified_purchase[\"verified_purchase\"] = rating_verified_purchase[\"verified_purchase\"].apply(lambda x: int(x))\n",
    "correlation_rating_verified_purchase = rating_verified_purchase['rating'].corr(rating_verified_purchase['verified_purchase'])\n",
    "print(correlation_rating_verified_purchase)"
   ]
  },
  {
   "cell_type": "code",
   "execution_count": 17,
   "id": "b7806ec1-cd6b-4378-9a97-4f9977681d81",
   "metadata": {},
   "outputs": [
    {
     "name": "stdout",
     "output_type": "stream",
     "text": [
      "0.005403148978335591\n"
     ]
    }
   ],
   "source": [
    "# b) downsampling\n",
    "\n",
    "rating_verified_purchase = df[[\"rating\", \"verified_purchase\"]]\n",
    "rating_verified_purchase[\"verified_purchase\"] = rating_verified_purchase[\"verified_purchase\"].apply(lambda x: int(x))\n",
    "\n",
    "uverified_purchases = df[df[\"verified_purchase\"] == 0]\n",
    "sampled_verified_purchases = df[df[\"verified_purchase\"] == 1].sample(len(uverified_purchases), random_state=42)\n",
    "downsampled_df = pd.concat([sampled_verified_purchases, uverified_purchases], ignore_index=True)\n",
    "correlation_rating_verified_purchase = downsampled_df['rating'].corr(downsampled_df['verified_purchase'])\n",
    "print(correlation_rating_verified_purchase)\n",
    "\n"
   ]
  },
  {
   "cell_type": "code",
   "execution_count": 18,
   "id": "a08ead1a-30b4-4f4c-b7b4-6139b720691a",
   "metadata": {},
   "outputs": [
    {
     "name": "stdout",
     "output_type": "stream",
     "text": [
      "3.957227834375785\n",
      "3.972506233268193\n"
     ]
    }
   ],
   "source": [
    "# c) comparisong of mean rating\n",
    "\n",
    "print(uverified_purchases[\"rating\"].mean())\n",
    "print(sampled_verified_purchases[\"rating\"].mean())"
   ]
  },
  {
   "cell_type": "code",
   "execution_count": 19,
   "id": "04187eee-8060-4692-9e7d-8e61d5648fa5",
   "metadata": {},
   "outputs": [
    {
     "name": "stdout",
     "output_type": "stream",
     "text": [
      "-0.0020771991003059108\n"
     ]
    }
   ],
   "source": [
    "# correlation between reviews' author's rating activity (number of reviews) and number of helpful votes?\n",
    "\n",
    "helpful_reviewcount = df[[\"user_id\", \"helpful_vote\"]].merge(number_of_reviews_per_user, how=\"left\", left_on=\"user_id\", right_on=\"user_id\")\n",
    "helpful_reviewcount_correlation = helpful_reviewcount['review_count'].corr(downsampled_df['helpful_vote'])\n",
    "print(helpful_reviewcount_correlation)"
   ]
  },
  {
   "cell_type": "code",
   "execution_count": 33,
   "id": "fffb6c93-d0f8-4015-a12e-e9093731e40e",
   "metadata": {},
   "outputs": [
    {
     "name": "stdout",
     "output_type": "stream",
     "text": [
      "0.14635963076591357\n"
     ]
    }
   ],
   "source": [
    "# do reviews with images tend to yield in more helpful votes?\n",
    "images_helpful = df[[\"images\", \"helpful_vote\"]]\n",
    "images_helpful[\"len_images\"] = df[\"images\"].apply(lambda x: len(x))\n",
    "images_helpful_correlation = images_helpful[\"len_images\"].corr(images_helpful[\"helpful_vote\"])\n",
    "print(images_helpful_correlation)"
   ]
  },
  {
   "cell_type": "code",
   "execution_count": null,
   "id": "3fdb5d4d-0f42-4778-a016-aea921b64770",
   "metadata": {},
   "outputs": [],
   "source": []
  }
 ],
 "metadata": {
  "kernelspec": {
   "display_name": "Python 3 (ipykernel)",
   "language": "python",
   "name": "python3"
  },
  "language_info": {
   "codemirror_mode": {
    "name": "ipython",
    "version": 3
   },
   "file_extension": ".py",
   "mimetype": "text/x-python",
   "name": "python",
   "nbconvert_exporter": "python",
   "pygments_lexer": "ipython3",
   "version": "3.11.5"
  }
 },
 "nbformat": 4,
 "nbformat_minor": 5
}
